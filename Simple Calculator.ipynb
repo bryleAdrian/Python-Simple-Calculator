{
 "cells": [
  {
   "cell_type": "markdown",
   "id": "eb0e9063",
   "metadata": {},
   "source": [
    "def add(a,b):\n",
    "    return a+b\n",
    "def substract(a,b):\n",
    "    return a-b\n",
    "def multiply(a,b):\n",
    "    return a*b\n",
    "def divide(a,b):\n",
    "    return a/b\n",
    "print(\"Select operation\")\n",
    "print(\"1 - Add\")\n",
    "print(\"2 - Substract\")\n",
    "print(\"3 - Multiply\")\n",
    "print(\"4 - Divide\")\n",
    "\n",
    "while True:\n",
    "    \n",
    "    choice = input(\"Enter choice:\")\n",
    "    if choice in ('1', '2', '3', '4'):\n",
    "        num1 = float(input(\"Enter first number:\"))\n",
    "        num2 = float(input(\"Enter second number:\"))\n",
    "\n",
    "        \n",
    "        if choice == '1':\n",
    "             print(\"Answer : \", add(num1, num2))\n",
    "\n",
    "        elif choice == '2':\n",
    "            print(\"Answer : \", substract(num1, num2))\n",
    "\n",
    "        elif choice == '3':\n",
    "            print(\"Answer : \", multiply(num1, num2))\n",
    "\n",
    "        elif choice == '4':\n",
    "            print(\"Answer : \", divide(num1, num2))\n",
    "\n",
    "        break\n",
    "\n",
    "    else: \n",
    "        print(\"Invalid\")\n",
    "\n",
    "    \n",
    "        \n",
    "    "
   ]
  }
 ],
 "metadata": {
  "kernelspec": {
   "display_name": "Python 3 (ipykernel)",
   "language": "python",
   "name": "python3"
  },
  "language_info": {
   "codemirror_mode": {
    "name": "ipython",
    "version": 3
   },
   "file_extension": ".py",
   "mimetype": "text/x-python",
   "name": "python",
   "nbconvert_exporter": "python",
   "pygments_lexer": "ipython3",
   "version": "3.9.12"
  }
 },
 "nbformat": 4,
 "nbformat_minor": 5
}
